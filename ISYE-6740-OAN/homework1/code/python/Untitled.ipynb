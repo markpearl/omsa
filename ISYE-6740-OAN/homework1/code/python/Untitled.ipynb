{
 "cells": [
  {
   "cell_type": "code",
   "execution_count": 8,
   "metadata": {},
   "outputs": [
    {
     "data": {
      "text/plain": [
       "array([[  1,   2],\n",
       "       [  3,   4],\n",
       "       [  5,   6],\n",
       "       ...,\n",
       "       [221, 178],\n",
       "       [ 90, 170],\n",
       "       [ 82, 245]])"
      ]
     },
     "execution_count": 8,
     "metadata": {},
     "output_type": "execute_result"
    }
   ],
   "source": [
    "a = import_graph()\n",
    "a\n",
    "#i = a[:, 0]-1\n",
    "#j = a[:, 1]-1\n",
    "#j\n",
    "#v = np.ones((a.shape[0], 1)).flatten()"
   ]
  },
  {
   "cell_type": "code",
   "execution_count": 12,
   "metadata": {},
   "outputs": [
    {
     "data": {
      "image/png": "[encoded data removed]",
      "text/plain": [
       "<Figure size 432x288 with 1 Axes>"
      ]
     },
     "metadata": {
      "needs_background": "light"
     },
     "output_type": "display_data"
    },
    {
     "name": "stdout",
     "output_type": "stream",
     "text": [
      "(321,)\n"
     ]
    }
   ],
   "source": [
    "import os\n",
    "import numpy as np\n",
    "from os.path import abspath, exists\n",
    "from scipy import sparse\n",
    "from sklearn.cluster import KMeans\n",
    "from matplotlib import pyplot as plt\n",
    "\n",
    "\n",
    "def output_file(a, idx2name, c_idx):\n",
    "    dirpath = os.getcwd()\n",
    "    node_file = dirpath + '//nodes.csv'\n",
    "    edge_file = dirpath + '//edges.csv'\n",
    "\n",
    "    with open(edge_file, 'w') as fid:\n",
    "        fid.write('Source\\tTarget\\n')\n",
    "        for i in range(len(a)):\n",
    "            fid.write(f'{a[i,0]}\\t{a[i,1]}\\n')\n",
    "\n",
    "    with open(node_file, 'w') as fid:\n",
    "        fid.write('Id\\tLabel\\tColor\\n')\n",
    "        for i in range(len(idx2name)):\n",
    "            fid.write(f'{i}\\t{idx2name[i]}\\t{c_idx[i]}\\n')\n",
    "\n",
    "\n",
    "def read_team_name():\n",
    "    # read inverse_teams.txt file\n",
    "    f_path = abspath(\"inverse_teams.txt\")\n",
    "    idx2name = []\n",
    "    if exists(f_path):\n",
    "        with open(f_path) as fid:\n",
    "            for line in fid.readlines():\n",
    "                name = line.split(\"\\t\", 1)[1]\n",
    "                idx2name.append(name[:-1])\n",
    "    return idx2name\n",
    "\n",
    "\n",
    "def import_graph():\n",
    "    # read the graph from 'play_graph.txt'\n",
    "    f_path = abspath(\"play_graph.txt\")\n",
    "    if exists(f_path):\n",
    "        with open(f_path) as graph_file:\n",
    "            lines = [line.split() for line in graph_file]\n",
    "    return np.array(lines).astype(int)\n",
    "\n",
    "\n",
    "def main():\n",
    "    # spectral clustering\n",
    "    n = 321\n",
    "    k = 13\n",
    "\n",
    "    # load the graph\n",
    "    a = import_graph()\n",
    "\n",
    "    i = a[:, 0]-1\n",
    "    j = a[:, 1]-1\n",
    "    v = np.ones((a.shape[0], 1)).flatten()\n",
    "\n",
    "    A = sparse.coo_matrix((v, (i, j)), shape=(n, n))\n",
    "    A = (A + np.transpose(A))/2\n",
    "\n",
    "    D = np.diag(1/np.sqrt(np.sum(A, axis=1)).A1)\n",
    "    L = D @ A @ D\n",
    "\n",
    "    v, x = np.linalg.eig(L)\n",
    "    x = x[:, 0:k].real\n",
    "    x = x/np.repeat(np.sqrt(np.sum(x*x, axis=1).reshape(-1, 1)), k, axis=1)\n",
    "\n",
    "    # scatter\n",
    "    plt.scatter(x[:, 0], x[:, 1])\n",
    "    plt.show()\n",
    "\n",
    "    # k-means\n",
    "    kmeans = KMeans(n_clusters=k).fit(x)\n",
    "    c_idx = kmeans.labels_\n",
    "\n",
    "    (unique, counts) = numpy.unique(number_list, return_counts=True)\n",
    "    \n",
    "\n",
    "if __name__ == '__main__':\n",
    "    main()"
   ]
  }
 ],
 "metadata": {
  "kernelspec": {
   "display_name": "Python 3",
   "language": "python",
   "name": "python3"
  },
  "language_info": {
   "codemirror_mode": {
    "name": "ipython",
    "version": 3
   },
   "file_extension": ".py",
   "mimetype": "text/x-python",
   "name": "python",
   "nbconvert_exporter": "python",
   "pygments_lexer": "ipython3",
   "version": "3.7.4"
  }
 },
 "nbformat": 4,
 "nbformat_minor": 2
}
