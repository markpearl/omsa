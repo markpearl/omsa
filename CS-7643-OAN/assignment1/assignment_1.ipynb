{
 "cells": [
  {
   "cell_type": "code",
   "execution_count": 12,
   "id": "0e819e31",
   "metadata": {},
   "outputs": [],
   "source": [
    "import unittest\n",
    "import numpy as np\n",
    "frp, \n",
    "\n",
    "\n",
    "class TestActivation(unittest.TestCase):\n",
    "    \"\"\" The class containing all test cases for this assignment\"\"\"\n",
    "\n",
    "    def setUp(self):\n",
    "        \"\"\"Define the functions to be tested here.\"\"\"\n",
    "        self.model = SoftmaxRegression()\n",
    "\n",
    "    def test_sigmoid(self):\n",
    "        x = np.array([[-1.48839468, -0.31530738],\n",
    "                      [-0.28271176, -1.00780433],\n",
    "                      [0.66435418, 1.2537461],\n",
    "                      [-1.64829182, 0.90223236]])\n",
    "        y = np.array([[0.1841628, 0.4218198],\n",
    "                      [0.42978908, 0.26740977],\n",
    "                      [0.66023782, 0.77794766],\n",
    "                      [0.16133995, 0.71140804]])\n",
    "        outs = self.model.sigmoid(x)\n",
    "        diff = np.sum(np.abs((outs - y)))\n",
    "        self.assertAlmostEqual(diff, 0, places=7)"
   ]
  },
  {
   "cell_type": "code",
   "execution_count": 18,
   "id": "8f9fbf68",
   "metadata": {},
   "outputs": [],
   "source": [
    "import unittest\n",
    "import numpy as np\n",
    "from models._base_network import _baseNetwork\n",
    "\n",
    "x = np.array([[-1.48839468, -0.31530738],\n",
    "              [-0.28271176, -1.00780433],\n",
    "              [0.66435418, 1.2537461],\n",
    "              [-1.64829182, 0.90223236]])\n",
    "y = np.array([[0.1841628, 0.4218198],\n",
    "              [0.42978908, 0.26740977],\n",
    "              [0.66023782, 0.77794766],\n",
    "              [0.16133995, 0.71140804]])\n",
    "outs = 1/(1+np.exp(-x))\n",
    "#outs = self.model.sigmoid(x)\n",
    "diff = np.sum(np.abs((outs - y)))\n",
    "#self.assertAlmostEqual(diff, 0, places=7)"
   ]
  },
  {
   "cell_type": "code",
   "execution_count": 3,
   "id": "2e5b29a3",
   "metadata": {},
   "outputs": [
    {
     "data": {
      "text/plain": [
       "array([[-1.48839468, -0.31530738],\n",
       "       [-0.28271176, -1.00780433],\n",
       "       [ 0.66435418,  1.2537461 ],\n",
       "       [-1.64829182,  0.90223236]])"
      ]
     },
     "execution_count": 3,
     "metadata": {},
     "output_type": "execute_result"
    }
   ],
   "source": [
    "x"
   ]
  },
  {
   "cell_type": "code",
   "execution_count": 4,
   "id": "aefc95d0",
   "metadata": {},
   "outputs": [
    {
     "data": {
      "text/plain": [
       "array([[0.1841628 , 0.4218198 ],\n",
       "       [0.42978908, 0.26740977],\n",
       "       [0.66023782, 0.77794766],\n",
       "       [0.16133995, 0.71140804]])"
      ]
     },
     "execution_count": 4,
     "metadata": {},
     "output_type": "execute_result"
    }
   ],
   "source": [
    "outs"
   ]
  },
  {
   "cell_type": "code",
   "execution_count": 5,
   "id": "297419ea",
   "metadata": {},
   "outputs": [
    {
     "data": {
      "text/plain": [
       "2.0660873317757122e-08"
      ]
     },
     "execution_count": 5,
     "metadata": {},
     "output_type": "execute_result"
    }
   ],
   "source": [
    "np.sum(np.abs((outs - y)))"
   ]
  },
  {
   "cell_type": "code",
   "execution_count": 6,
   "id": "29835450",
   "metadata": {},
   "outputs": [
    {
     "data": {
      "text/plain": [
       "array([[5.66854369e-10, 9.34511468e-10],\n",
       "       [2.26673047e-09, 3.29724570e-09],\n",
       "       [4.74917228e-09, 4.66435790e-09],\n",
       "       [1.35177930e-09, 2.83022183e-09]])"
      ]
     },
     "execution_count": 6,
     "metadata": {},
     "output_type": "execute_result"
    }
   ],
   "source": [
    "np.abs((outs - y))"
   ]
  },
  {
   "cell_type": "code",
   "execution_count": 7,
   "id": "1bc11bf2",
   "metadata": {},
   "outputs": [
    {
     "data": {
      "text/plain": [
       "array([0.42978908, 0.26740977])"
      ]
     },
     "execution_count": 7,
     "metadata": {},
     "output_type": "execute_result"
    }
   ],
   "source": [
    "y[1]"
   ]
  },
  {
   "cell_type": "code",
   "execution_count": 10,
   "id": "974f2068",
   "metadata": {},
   "outputs": [
    {
     "data": {
      "text/plain": [
       "array([0.42978908, 0.26740977])"
      ]
     },
     "execution_count": 10,
     "metadata": {},
     "output_type": "execute_result"
    }
   ],
   "source": [
    "outs[1]"
   ]
  },
  {
   "cell_type": "code",
   "execution_count": 3,
   "id": "b3318f7e",
   "metadata": {},
   "outputs": [
    {
     "name": "stdout",
     "output_type": "stream",
     "text": [
      "0 [0.22573474 0.72956459]\n"
     ]
    },
    {
     "ename": "IndexError",
     "evalue": "list assignment index out of range",
     "output_type": "error",
     "traceback": [
      "\u001b[1;31m---------------------------------------------------------------------------\u001b[0m",
      "\u001b[1;31mIndexError\u001b[0m                                Traceback (most recent call last)",
      "Input \u001b[1;32mIn [3]\u001b[0m, in \u001b[0;36m<module>\u001b[1;34m\u001b[0m\n\u001b[0;32m     12\u001b[0m \u001b[38;5;28;01mfor\u001b[39;00m idx,unnorm_prob \u001b[38;5;129;01min\u001b[39;00m \u001b[38;5;28menumerate\u001b[39m(unnorm_probabilities):\n\u001b[0;32m     13\u001b[0m     \u001b[38;5;28mprint\u001b[39m(idx, unnorm_prob)\n\u001b[1;32m---> 14\u001b[0m     prob[idx]\u001b[38;5;241m=\u001b[39munnorm_prob\u001b[38;5;241m/\u001b[39mnp\u001b[38;5;241m.\u001b[39msum(unnorm_probabilities)\n",
      "\u001b[1;31mIndexError\u001b[0m: list assignment index out of range"
     ]
    }
   ],
   "source": [
    "import numpy as np\n",
    "x = np.array([[-1.48839468, -0.31530738],\n",
    "              [-0.28271176, -1.00780433],\n",
    "              [0.66435418, 1.2537461],\n",
    "              [-1.64829182, 0.90223236]])\n",
    "y = np.array([[0.23629739, 0.76370261],\n",
    "              [0.67372745, 0.32627255],\n",
    "              [0.35677439, 0.64322561],\n",
    "              [0.07239128, 0.92760872]])\n",
    "prob= []\n",
    "unnorm_probabilities = np.exp(x)\n",
    "for idx,unnorm_prob in enumerate(unnorm_probabilities):\n",
    "    print(idx, unnorm_prob)\n",
    "    prob[idx]=unnorm_prob/np.sum(unnorm_probabilities)"
   ]
  }
 ],
 "metadata": {
  "kernelspec": {
   "display_name": "Python 3 (ipykernel)",
   "language": "python",
   "name": "python3"
  },
  "language_info": {
   "codemirror_mode": {
    "name": "ipython",
    "version": 3
   },
   "file_extension": ".py",
   "mimetype": "text/x-python",
   "name": "python",
   "nbconvert_exporter": "python",
   "pygments_lexer": "ipython3",
   "version": "3.8.8"
  }
 },
 "nbformat": 4,
 "nbformat_minor": 5
}
