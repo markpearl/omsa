{
 "cells": [
  {
   "cell_type": "markdown",
   "source": [
    "## HW2 Question 2\r\n",
    "\r\n",
    "Your job is to predict democracy index by real GDP per capita and other demographic features.  Inorder to predict the democracy index we are going to use the following models:\r\n",
    "1.  Ridge Regression (10 points)\r\n",
    "2.  Lasso Regression (10 points)\r\n",
    "3.  Adaptive Lasso Regression (10 points)\r\n",
    "4.  Elastic Net Regression (10 points)"
   ],
   "metadata": {}
  },
  {
   "cell_type": "code",
   "execution_count": 40,
   "source": [
    "#Required libraries\r\n",
    "import pandas as pd\r\n",
    "import asgl\r\n",
    "from sklearn.linear_model import ElasticNetCV, RidgeCV, LassoCV\r\n",
    "import logging\r\n",
    "from sklearn.model_selection import GridSearchCV, RepeatedKFold, cross_val_score, train_test_split\r\n",
    "from sklearn.metrics import mean_squared_error\r\n",
    "from sklearn.datasets import make_regression\r\n",
    "from dataclasses import dataclass\r\n",
    "import numpy as np\r\n",
    "import matplotlib.pyplot as plt\r\n"
   ],
   "outputs": [],
   "metadata": {}
  },
  {
   "cell_type": "code",
   "execution_count": 54,
   "source": [
    "income_cleansed"
   ],
   "outputs": [
    {
     "output_type": "execute_result",
     "data": {
      "text/plain": [
       "       dem_ind  log_gdppc    log_pop     age_1     age_2     age_3     age_4  \\\n",
       "38    0.530000   8.905374   9.933823  0.307737  0.241766  0.210866  0.151395   \n",
       "39    0.166667   9.016160  10.011580  0.302024  0.239600  0.207557  0.152852   \n",
       "40    0.833333   9.133990  10.084220  0.293686  0.245023  0.199240  0.154751   \n",
       "41    0.166667   9.202840  10.167740  0.292191  0.248464  0.190341  0.154945   \n",
       "42    0.833333   9.271142  10.243310  0.305165  0.237141  0.186167  0.152458   \n",
       "...        ...        ...        ...       ...       ...       ...       ...   \n",
       "1364  0.666667   7.831994   8.716208  0.487388  0.249146  0.135395  0.081204   \n",
       "1365  0.500000   7.876341   8.872487  0.490522  0.261934  0.124533  0.075827   \n",
       "1366  0.166667   7.913739   9.061492  0.477027  0.272603  0.132026  0.073196   \n",
       "1367  0.333333   7.977293   9.234155  0.462648  0.277990  0.141861  0.072411   \n",
       "1368  0.166667   7.882274   9.347926  0.454770  0.282207  0.146730  0.070168   \n",
       "\n",
       "         age_5   educ  age_median  \n",
       "38    0.088237  4.988   26.799999  \n",
       "39    0.097967  5.214   27.200001  \n",
       "40    0.107299  5.876   27.400000  \n",
       "41    0.114059  5.845   27.299999  \n",
       "42    0.119069  6.618   27.200001  \n",
       "...        ...    ...         ...  \n",
       "1364  0.046867  2.147   15.600000  \n",
       "1365  0.047184  2.816   15.400000  \n",
       "1366  0.045149  2.828   16.000000  \n",
       "1367  0.045090  4.087   16.700001  \n",
       "1368  0.046125  4.428   17.000000  \n",
       "\n",
       "[679 rows x 10 columns]"
      ],
      "text/html": [
       "<div>\n",
       "<style scoped>\n",
       "    .dataframe tbody tr th:only-of-type {\n",
       "        vertical-align: middle;\n",
       "    }\n",
       "\n",
       "    .dataframe tbody tr th {\n",
       "        vertical-align: top;\n",
       "    }\n",
       "\n",
       "    .dataframe thead th {\n",
       "        text-align: right;\n",
       "    }\n",
       "</style>\n",
       "<table border=\"1\" class=\"dataframe\">\n",
       "  <thead>\n",
       "    <tr style=\"text-align: right;\">\n",
       "      <th></th>\n",
       "      <th>dem_ind</th>\n",
       "      <th>log_gdppc</th>\n",
       "      <th>log_pop</th>\n",
       "      <th>age_1</th>\n",
       "      <th>age_2</th>\n",
       "      <th>age_3</th>\n",
       "      <th>age_4</th>\n",
       "      <th>age_5</th>\n",
       "      <th>educ</th>\n",
       "      <th>age_median</th>\n",
       "    </tr>\n",
       "  </thead>\n",
       "  <tbody>\n",
       "    <tr>\n",
       "      <th>38</th>\n",
       "      <td>0.530000</td>\n",
       "      <td>8.905374</td>\n",
       "      <td>9.933823</td>\n",
       "      <td>0.307737</td>\n",
       "      <td>0.241766</td>\n",
       "      <td>0.210866</td>\n",
       "      <td>0.151395</td>\n",
       "      <td>0.088237</td>\n",
       "      <td>4.988</td>\n",
       "      <td>26.799999</td>\n",
       "    </tr>\n",
       "    <tr>\n",
       "      <th>39</th>\n",
       "      <td>0.166667</td>\n",
       "      <td>9.016160</td>\n",
       "      <td>10.011580</td>\n",
       "      <td>0.302024</td>\n",
       "      <td>0.239600</td>\n",
       "      <td>0.207557</td>\n",
       "      <td>0.152852</td>\n",
       "      <td>0.097967</td>\n",
       "      <td>5.214</td>\n",
       "      <td>27.200001</td>\n",
       "    </tr>\n",
       "    <tr>\n",
       "      <th>40</th>\n",
       "      <td>0.833333</td>\n",
       "      <td>9.133990</td>\n",
       "      <td>10.084220</td>\n",
       "      <td>0.293686</td>\n",
       "      <td>0.245023</td>\n",
       "      <td>0.199240</td>\n",
       "      <td>0.154751</td>\n",
       "      <td>0.107299</td>\n",
       "      <td>5.876</td>\n",
       "      <td>27.400000</td>\n",
       "    </tr>\n",
       "    <tr>\n",
       "      <th>41</th>\n",
       "      <td>0.166667</td>\n",
       "      <td>9.202840</td>\n",
       "      <td>10.167740</td>\n",
       "      <td>0.292191</td>\n",
       "      <td>0.248464</td>\n",
       "      <td>0.190341</td>\n",
       "      <td>0.154945</td>\n",
       "      <td>0.114059</td>\n",
       "      <td>5.845</td>\n",
       "      <td>27.299999</td>\n",
       "    </tr>\n",
       "    <tr>\n",
       "      <th>42</th>\n",
       "      <td>0.833333</td>\n",
       "      <td>9.271142</td>\n",
       "      <td>10.243310</td>\n",
       "      <td>0.305165</td>\n",
       "      <td>0.237141</td>\n",
       "      <td>0.186167</td>\n",
       "      <td>0.152458</td>\n",
       "      <td>0.119069</td>\n",
       "      <td>6.618</td>\n",
       "      <td>27.200001</td>\n",
       "    </tr>\n",
       "    <tr>\n",
       "      <th>...</th>\n",
       "      <td>...</td>\n",
       "      <td>...</td>\n",
       "      <td>...</td>\n",
       "      <td>...</td>\n",
       "      <td>...</td>\n",
       "      <td>...</td>\n",
       "      <td>...</td>\n",
       "      <td>...</td>\n",
       "      <td>...</td>\n",
       "      <td>...</td>\n",
       "    </tr>\n",
       "    <tr>\n",
       "      <th>1364</th>\n",
       "      <td>0.666667</td>\n",
       "      <td>7.831994</td>\n",
       "      <td>8.716208</td>\n",
       "      <td>0.487388</td>\n",
       "      <td>0.249146</td>\n",
       "      <td>0.135395</td>\n",
       "      <td>0.081204</td>\n",
       "      <td>0.046867</td>\n",
       "      <td>2.147</td>\n",
       "      <td>15.600000</td>\n",
       "    </tr>\n",
       "    <tr>\n",
       "      <th>1365</th>\n",
       "      <td>0.500000</td>\n",
       "      <td>7.876341</td>\n",
       "      <td>8.872487</td>\n",
       "      <td>0.490522</td>\n",
       "      <td>0.261934</td>\n",
       "      <td>0.124533</td>\n",
       "      <td>0.075827</td>\n",
       "      <td>0.047184</td>\n",
       "      <td>2.816</td>\n",
       "      <td>15.400000</td>\n",
       "    </tr>\n",
       "    <tr>\n",
       "      <th>1366</th>\n",
       "      <td>0.166667</td>\n",
       "      <td>7.913739</td>\n",
       "      <td>9.061492</td>\n",
       "      <td>0.477027</td>\n",
       "      <td>0.272603</td>\n",
       "      <td>0.132026</td>\n",
       "      <td>0.073196</td>\n",
       "      <td>0.045149</td>\n",
       "      <td>2.828</td>\n",
       "      <td>16.000000</td>\n",
       "    </tr>\n",
       "    <tr>\n",
       "      <th>1367</th>\n",
       "      <td>0.333333</td>\n",
       "      <td>7.977293</td>\n",
       "      <td>9.234155</td>\n",
       "      <td>0.462648</td>\n",
       "      <td>0.277990</td>\n",
       "      <td>0.141861</td>\n",
       "      <td>0.072411</td>\n",
       "      <td>0.045090</td>\n",
       "      <td>4.087</td>\n",
       "      <td>16.700001</td>\n",
       "    </tr>\n",
       "    <tr>\n",
       "      <th>1368</th>\n",
       "      <td>0.166667</td>\n",
       "      <td>7.882274</td>\n",
       "      <td>9.347926</td>\n",
       "      <td>0.454770</td>\n",
       "      <td>0.282207</td>\n",
       "      <td>0.146730</td>\n",
       "      <td>0.070168</td>\n",
       "      <td>0.046125</td>\n",
       "      <td>4.428</td>\n",
       "      <td>17.000000</td>\n",
       "    </tr>\n",
       "  </tbody>\n",
       "</table>\n",
       "<p>679 rows × 10 columns</p>\n",
       "</div>"
      ]
     },
     "metadata": {},
     "execution_count": 54
    }
   ],
   "metadata": {}
  },
  {
   "cell_type": "code",
   "execution_count": 6,
   "source": [
    "#Read in and cleanse the data\r\n",
    "income_democracy = pd.read_csv('./data/income_democracy.csv')\r\n",
    "exclude_cols = ['country','year','code']\r\n",
    "income_cleansed = income_democracy.drop(exclude_cols, axis=1)\r\n",
    "for col in income_cleansed.columns:\r\n",
    "    income_cleansed = income_cleansed[~pd.isnull(income_cleansed[col])]\r\n"
   ],
   "outputs": [],
   "metadata": {}
  },
  {
   "cell_type": "code",
   "execution_count": 53,
   "source": [
    "income_cleansed.shape"
   ],
   "outputs": [
    {
     "output_type": "execute_result",
     "data": {
      "text/plain": [
       "(679, 10)"
      ]
     },
     "metadata": {},
     "execution_count": 53
    }
   ],
   "metadata": {}
  },
  {
   "cell_type": "code",
   "execution_count": 7,
   "source": [
    "y = income_cleansed.dem_ind\r\n",
    "X = income_cleansed.drop(\"dem_ind\", axis=1)"
   ],
   "outputs": [],
   "metadata": {}
  },
  {
   "cell_type": "code",
   "execution_count": 8,
   "source": [
    "#Split dataset into train/test with a train size of 80%\r\n",
    "X_train, X_test, y_train, y_test = train_test_split(X, y, test_size=0.2, random_state=42)"
   ],
   "outputs": [],
   "metadata": {}
  },
  {
   "cell_type": "markdown",
   "source": [
    "## Fit ridge regression\r\n",
    "### 2A) "
   ],
   "metadata": {}
  },
  {
   "cell_type": "code",
   "execution_count": 21,
   "source": [
    "ridge = RidgeCV(alphas=[1e-3, 1e-2, 1e-1, 1, 10],store_cv_values=True, alpha_per_target=True).fit(X_train, y_train)"
   ],
   "outputs": [],
   "metadata": {}
  },
  {
   "cell_type": "code",
   "execution_count": 22,
   "source": [
    "ridge.alpha_"
   ],
   "outputs": [
    {
     "output_type": "execute_result",
     "data": {
      "text/plain": [
       "10.0"
      ]
     },
     "metadata": {},
     "execution_count": 22
    }
   ],
   "metadata": {}
  },
  {
   "cell_type": "code",
   "execution_count": 30,
   "source": [
    "y_pred_ridge = ridge.predict(X_test)\r\n",
    "ridge_mse = mean_squared_error(y_test,y_pred_ridge)\r\n",
    "print(ridge_mse)"
   ],
   "outputs": [
    {
     "output_type": "stream",
     "name": "stdout",
     "text": [
      "0.05953832584294149\n"
     ]
    }
   ],
   "metadata": {}
  },
  {
   "cell_type": "code",
   "execution_count": 11,
   "source": [
    "fig = plt.figure()\r\n",
    "ax = fig.add_axes([0,0,1,1])\r\n",
    "ax.bar(list(X_train.columns),list(ridge.coef_))\r\n",
    "#set parameters for tick labels\r\n",
    "plt.tick_params(axis='x', which='major', labelsize=9)"
   ],
   "outputs": [
    {
     "output_type": "display_data",
     "data": {
      "text/plain": [
       "<Figure size 432x288 with 1 Axes>"
      ],
      "image/png": "[encoded data removed]"
     },
     "metadata": {
      "needs_background": "light"
     }
    }
   ],
   "metadata": {}
  },
  {
   "cell_type": "markdown",
   "source": [
    "## Fit lasso regression\r\n",
    "### 2B) "
   ],
   "metadata": {}
  },
  {
   "cell_type": "code",
   "execution_count": 12,
   "source": [
    "lasso = LassoCV(cv=10).fit(X_train, y_train)"
   ],
   "outputs": [],
   "metadata": {}
  },
  {
   "cell_type": "code",
   "execution_count": 13,
   "source": [
    "lasso.alpha_"
   ],
   "outputs": [
    {
     "output_type": "execute_result",
     "data": {
      "text/plain": [
       "0.0015182975900542828"
      ]
     },
     "metadata": {},
     "execution_count": 13
    }
   ],
   "metadata": {}
  },
  {
   "cell_type": "code",
   "execution_count": 37,
   "source": [
    "y_pred_lasso = lasso.predict(X_test)\r\n",
    "lasso_mse = mean_squared_error(y_test,y_pred_lasso)\r\n",
    "print(lasso_mse)"
   ],
   "outputs": [
    {
     "output_type": "stream",
     "name": "stdout",
     "text": [
      "0.059578045325377305\n"
     ]
    }
   ],
   "metadata": {}
  },
  {
   "cell_type": "code",
   "execution_count": 14,
   "source": [
    "fig = plt.figure()\r\n",
    "ax = fig.add_axes([0,0,1,1])\r\n",
    "ax.bar(list(X_train.columns),list(lasso.coef_))\r\n",
    "#set parameters for tick labels\r\n",
    "plt.tick_params(axis='x', which='major', labelsize=9)\r\n",
    "plt.show()"
   ],
   "outputs": [
    {
     "output_type": "display_data",
     "data": {
      "text/plain": [
       "<Figure size 432x288 with 1 Axes>"
      ],
      "image/png": "[encoded data removed]"
     },
     "metadata": {
      "needs_background": "light"
     }
    }
   ],
   "metadata": {}
  },
  {
   "cell_type": "markdown",
   "source": [
    "## Fit adaptive lasso regression\r\n",
    "### 2C) "
   ],
   "metadata": {}
  },
  {
   "cell_type": "code",
   "execution_count": 49,
   "source": [
    "#lambda1 = 10.0 ** np.arange(-3, 1.51, 0.1)\r\n",
    "tvt_alasso = asgl.TVT(model='lm', penalization='alasso', lambda1=lasso.alpha_, parallel=True,\r\n",
    "                      weight_technique='lasso', error_type='MSE', random_state=1, \r\n",
    "                      train_size=80)\r\n",
    "\r\n",
    "#alasso_result = tvt_alasso.train_validate_test(x=X_train, y=y_train)\r\n",
    "#alasso_prediction_error = alasso_result['test_error']\r\n",
    "#alasso_betas = alasso_result['optimal_betas'][1:]\r\n"
   ],
   "outputs": [],
   "metadata": {}
  },
  {
   "cell_type": "code",
   "execution_count": 50,
   "source": [
    "tvt_alasso.alpha"
   ],
   "outputs": [
    {
     "output_type": "execute_result",
     "data": {
      "text/plain": [
       "0.5"
      ]
     },
     "metadata": {},
     "execution_count": 50
    }
   ],
   "metadata": {}
  },
  {
   "cell_type": "code",
   "execution_count": 52,
   "source": [
    "tvt_alasso.coef_"
   ],
   "outputs": [],
   "metadata": {}
  },
  {
   "cell_type": "markdown",
   "source": [
    "## Fit elastic net regression\r\n",
    "### 2D) "
   ],
   "metadata": {}
  },
  {
   "cell_type": "code",
   "execution_count": 15,
   "source": [
    "elastic = ElasticNetCV(cv=10).fit(X_train, y_train)"
   ],
   "outputs": [],
   "metadata": {}
  },
  {
   "cell_type": "code",
   "execution_count": 16,
   "source": [
    "elastic.alpha_"
   ],
   "outputs": [
    {
     "output_type": "execute_result",
     "data": {
      "text/plain": [
       "0.003036595180108563"
      ]
     },
     "metadata": {},
     "execution_count": 16
    }
   ],
   "metadata": {}
  },
  {
   "cell_type": "markdown",
   "source": [],
   "metadata": {}
  },
  {
   "cell_type": "code",
   "execution_count": 17,
   "source": [
    "fig = plt.figure()\r\n",
    "ax = fig.add_axes([0,0,1,1])\r\n",
    "ax.bar(list(X_train.columns),list(elastic.coef_))\r\n",
    "#set parameters for tick labels\r\n",
    "plt.tick_params(axis='x', which='major', labelsize=9)\r\n",
    "plt.show()"
   ],
   "outputs": [
    {
     "output_type": "display_data",
     "data": {
      "text/plain": [
       "<Figure size 432x288 with 1 Axes>"
      ],
      "image/png": "[encoded data removed]"
     },
     "metadata": {
      "needs_background": "light"
     }
    }
   ],
   "metadata": {}
  },
  {
   "cell_type": "code",
   "execution_count": 34,
   "source": [
    "y_pred_elastic = lasso.predict(X_test)\r\n",
    "elastic_mse = mean_squared_error(y_test,y_pred_elastic)\r\n",
    "print(elastic_mse)"
   ],
   "outputs": [
    {
     "output_type": "stream",
     "name": "stdout",
     "text": [
      "0.059578045325377305\n"
     ]
    }
   ],
   "metadata": {}
  },
  {
   "cell_type": "code",
   "execution_count": 35,
   "source": [
    "fig = plt.figure()\r\n",
    "ax = fig.add_axes([0,0,1,1])\r\n",
    "mse_x = [\"Ridge MSE\",\"Lasso MSE\",\"Elastic MSE\"]\r\n",
    "mse_y=[ridge_mse,lasso_mse,elastic_mse]\r\n",
    "ax.bar(mse_x,mse_y)\r\n",
    "#set parameters for tick labels\r\n",
    "plt.tick_params(axis='x', which='major', labelsize=9)\r\n",
    "plt.show()"
   ],
   "outputs": [
    {
     "output_type": "display_data",
     "data": {
      "text/plain": [
       "<Figure size 432x288 with 1 Axes>"
      ],
      "image/png": "[encoded data removed]"
     },
     "metadata": {
      "needs_background": "light"
     }
    }
   ],
   "metadata": {}
  }
 ],
 "metadata": {
  "orig_nbformat": 4,
  "language_info": {
   "name": "python"
  }
 },
 "nbformat": 4,
 "nbformat_minor": 2
}