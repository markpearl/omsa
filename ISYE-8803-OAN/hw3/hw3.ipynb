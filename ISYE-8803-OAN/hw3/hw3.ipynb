{
 "cells": [
  {
   "cell_type": "code",
   "execution_count": 13,
   "metadata": {},
   "outputs": [
    {
     "data": {
      "text/plain": [
       "array([[ 5,  6, 10, 12],\n",
       "       [ 7,  8, 14, 16],\n",
       "       [15, 18, 20, 24],\n",
       "       [21, 24, 28, 32]])"
      ]
     },
     "execution_count": 13,
     "metadata": {},
     "output_type": "execute_result"
    }
   ],
   "source": [
    "from scipy import linalg\r\n",
    "import numpy as np\r\n",
    "a = np.array([[1, 2], [3, 4]])\r\n",
    "b = np.array([[5, 6], [7, 8]])\r\n",
    "linalg.kron(a, b)"
   ]
  },
  {
   "cell_type": "code",
   "execution_count": 14,
   "metadata": {},
   "outputs": [
    {
     "data": {
      "text/plain": [
       "array([[ 5, 12],\n",
       "       [ 7, 16],\n",
       "       [15, 24],\n",
       "       [21, 32]])"
      ]
     },
     "execution_count": 14,
     "metadata": {},
     "output_type": "execute_result"
    }
   ],
   "source": [
    "linalg.khatri_rao(a, b)"
   ]
  },
  {
   "cell_type": "code",
   "execution_count": 19,
   "metadata": {},
   "outputs": [
    {
     "data": {
      "text/plain": [
       "array([[ 8.  , -6.  , -4.  ,  3.  ],\n",
       "       [-7.  ,  5.  ,  3.5 , -2.5 ],\n",
       "       [-6.  ,  4.5 ,  2.  , -1.5 ],\n",
       "       [ 5.25, -3.75, -1.75,  1.25]])"
      ]
     },
     "execution_count": 19,
     "metadata": {},
     "output_type": "execute_result"
    }
   ],
   "source": [
    "linalg.inv(linalg.kron(a, b))"
   ]
  },
  {
   "cell_type": "code",
   "execution_count": 20,
   "metadata": {},
   "outputs": [
    {
     "data": {
      "text/plain": [
       "array([[ 8.  , -6.  , -4.  ,  3.  ],\n",
       "       [-7.  ,  5.  ,  3.5 , -2.5 ],\n",
       "       [-6.  ,  4.5 ,  2.  , -1.5 ],\n",
       "       [ 5.25, -3.75, -1.75,  1.25]])"
      ]
     },
     "execution_count": 20,
     "metadata": {},
     "output_type": "execute_result"
    }
   ],
   "source": [
    "linalg.kron(linalg.inv(a), linalg.inv(b))"
   ]
  }
 ],
 "metadata": {
  "interpreter": {
   "hash": "50666865514ce8fadc5b7568d4a3d74bf2a0096f71e6d07e06e277213ef05d37"
  },
  "kernelspec": {
   "display_name": "Python 3.7.9 64-bit ('env_ISYE8803': venv)",
   "name": "python3"
  },
  "language_info": {
   "name": "python",
   "version": ""
  },
  "orig_nbformat": 4
 },
 "nbformat": 4,
 "nbformat_minor": 2
}